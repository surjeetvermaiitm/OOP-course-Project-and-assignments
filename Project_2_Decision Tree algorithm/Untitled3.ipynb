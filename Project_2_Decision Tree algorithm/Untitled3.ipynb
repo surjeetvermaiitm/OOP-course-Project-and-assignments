{
 "cells": [
  {
   "cell_type": "code",
   "execution_count": 3,
   "metadata": {},
   "outputs": [],
   "source": [
    "import pandas as pd"
   ]
  },
  {
   "cell_type": "code",
   "execution_count": 5,
   "metadata": {},
   "outputs": [],
   "source": [
    "df=pd.read_csv(\"training-data.csv\")"
   ]
  },
  {
   "cell_type": "code",
   "execution_count": 6,
   "metadata": {},
   "outputs": [
    {
     "data": {
      "text/html": [
       "<div>\n",
       "<style scoped>\n",
       "    .dataframe tbody tr th:only-of-type {\n",
       "        vertical-align: middle;\n",
       "    }\n",
       "\n",
       "    .dataframe tbody tr th {\n",
       "        vertical-align: top;\n",
       "    }\n",
       "\n",
       "    .dataframe thead th {\n",
       "        text-align: right;\n",
       "    }\n",
       "</style>\n",
       "<table border=\"1\" class=\"dataframe\">\n",
       "  <thead>\n",
       "    <tr style=\"text-align: right;\">\n",
       "      <th></th>\n",
       "      <th>Age</th>\n",
       "      <th>Salary</th>\n",
       "      <th>income</th>\n",
       "      <th>Class</th>\n",
       "    </tr>\n",
       "  </thead>\n",
       "  <tbody>\n",
       "    <tr>\n",
       "      <th>0</th>\n",
       "      <td>65</td>\n",
       "      <td>65</td>\n",
       "      <td>23.4</td>\n",
       "      <td>G</td>\n",
       "    </tr>\n",
       "    <tr>\n",
       "      <th>1</th>\n",
       "      <td>47</td>\n",
       "      <td>15</td>\n",
       "      <td>36.5</td>\n",
       "      <td>B</td>\n",
       "    </tr>\n",
       "    <tr>\n",
       "      <th>2</th>\n",
       "      <td>34</td>\n",
       "      <td>75</td>\n",
       "      <td>77.2</td>\n",
       "      <td>G</td>\n",
       "    </tr>\n",
       "    <tr>\n",
       "      <th>3</th>\n",
       "      <td>97</td>\n",
       "      <td>40</td>\n",
       "      <td>25.4</td>\n",
       "      <td>B</td>\n",
       "    </tr>\n",
       "    <tr>\n",
       "      <th>4</th>\n",
       "      <td>36</td>\n",
       "      <td>100</td>\n",
       "      <td>99.0</td>\n",
       "      <td>G</td>\n",
       "    </tr>\n",
       "    <tr>\n",
       "      <th>5</th>\n",
       "      <td>24</td>\n",
       "      <td>60</td>\n",
       "      <td>26.0</td>\n",
       "      <td>G</td>\n",
       "    </tr>\n",
       "    <tr>\n",
       "      <th>6</th>\n",
       "      <td>43</td>\n",
       "      <td>56</td>\n",
       "      <td>43.2</td>\n",
       "      <td>B</td>\n",
       "    </tr>\n",
       "    <tr>\n",
       "      <th>7</th>\n",
       "      <td>23</td>\n",
       "      <td>90</td>\n",
       "      <td>22.6</td>\n",
       "      <td>B</td>\n",
       "    </tr>\n",
       "    <tr>\n",
       "      <th>8</th>\n",
       "      <td>12</td>\n",
       "      <td>23</td>\n",
       "      <td>23.2</td>\n",
       "      <td>G</td>\n",
       "    </tr>\n",
       "  </tbody>\n",
       "</table>\n",
       "</div>"
      ],
      "text/plain": [
       "   Age  Salary  income Class\n",
       "0   65      65    23.4     G\n",
       "1   47      15    36.5     B\n",
       "2   34      75    77.2     G\n",
       "3   97      40    25.4     B\n",
       "4   36     100    99.0     G\n",
       "5   24      60    26.0     G\n",
       "6   43      56    43.2     B\n",
       "7   23      90    22.6     B\n",
       "8   12      23    23.2     G"
      ]
     },
     "execution_count": 6,
     "metadata": {},
     "output_type": "execute_result"
    }
   ],
   "source": [
    "df"
   ]
  },
  {
   "cell_type": "code",
   "execution_count": 9,
   "metadata": {},
   "outputs": [],
   "source": [
    "def presort(attr, dataset):\n",
    "\tattrList = []\n",
    "\tattr['value'] = {}\n",
    "\tfor attrIndex in xrange(attr['length']):\n",
    "\t\t# all attribute combinations\n",
    "\t\tif attr['type'][attrIndex] == 'b':\t\n",
    "\t\t\tattr['value'][attrIndex] = ['yes']\n",
    "\t\telif attr['type'][attrIndex] == 'n':\t\n",
    "\t\t\tattr['value'][attrIndex] = sorted(list(set([data[attrIndex] for data in dataset])))\n",
    "\t\telif attr['type'][attrIndex] == 'c':\t\n",
    "\t\t\tattr['value'][attrIndex] = subset(list(set([data[attrIndex] for data in dataset])))\n",
    "\t\t# sorted attribute lists\n",
    "\t\tcurrAttrList = []\n",
    "\t\tfor dataIndex in xrange(len(dataset)):\n",
    "\t\t\tcurrAttrList.append([dataset[dataIndex][attrIndex], dataIndex])\n",
    "\t\tattrList.append(sorted(currAttrList))\n",
    "\treturn attrList, [[data[attr['length']],1] for data in dataset]\n"
   ]
  },
  {
   "cell_type": "code",
   "execution_count": null,
   "metadata": {},
   "outputs": [],
   "source": []
  }
 ],
 "metadata": {
  "kernelspec": {
   "display_name": "Python 3",
   "language": "python",
   "name": "python3"
  },
  "language_info": {
   "codemirror_mode": {
    "name": "ipython",
    "version": 3
   },
   "file_extension": ".py",
   "mimetype": "text/x-python",
   "name": "python",
   "nbconvert_exporter": "python",
   "pygments_lexer": "ipython3",
   "version": "3.7.6"
  }
 },
 "nbformat": 4,
 "nbformat_minor": 4
}
